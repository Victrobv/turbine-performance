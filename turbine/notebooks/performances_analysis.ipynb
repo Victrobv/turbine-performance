{
 "cells": [
  {
   "cell_type": "markdown",
   "metadata": {},
   "source": [
    "# **Performance Calculation**"
   ]
  },
  {
   "cell_type": "code",
   "execution_count": 1,
   "metadata": {},
   "outputs": [],
   "source": [
    "import pandas as pd\n",
    "\n",
    "import sys\n",
    "sys.path.append('../scripts/')\n",
    "from excel_to_dict import dir2dict, excel2dict\n",
    "from gas_turbine_performances import PartLoad, ComputeCoeffs"
   ]
  },
  {
   "cell_type": "markdown",
   "metadata": {},
   "source": [
    "## **Preparing Input Data**"
   ]
  },
  {
   "cell_type": "markdown",
   "metadata": {},
   "source": [
    "### **GEK 116403 Performance Data**"
   ]
  },
  {
   "cell_type": "code",
   "execution_count": 2,
   "metadata": {},
   "outputs": [
    {
     "name": "stdout",
     "output_type": "stream",
     "text": [
      "dict_keys(['dPin', 'dPout', 'Pbar', 'RH', 'T'])\n",
      "dict_keys(['PartLoad'])\n"
     ]
    }
   ],
   "source": [
    "gek_dict = dir2dict(\"../data/processed/MS7001EA/\")\n",
    "print(gek_dict.keys())\n",
    "\n",
    "partial_load_dict = {\"PartLoad\": excel2dict(\"../data/processed/PartialLoad.xlsx\")}\n",
    "print(partial_load_dict.keys())"
   ]
  },
  {
   "cell_type": "markdown",
   "metadata": {},
   "source": [
    "### **Climate Data and Load Assumptions**\n",
    "\n",
    "* Daily demand is considered variable according with following figure\n",
    "* The daily demand is shown to have a reduction on weekends, around 5%\n",
    "* The demand is shown to vary during rainy/snow days, we account for this by reducing around 15% demand during rainy season"
   ]
  },
  {
   "cell_type": "markdown",
   "metadata": {},
   "source": [
    "<img src=\"../../img/daily_load.png\" alt=\"Fig\" width=\"1000\"/>"
   ]
  },
  {
   "cell_type": "code",
   "execution_count": 3,
   "metadata": {},
   "outputs": [],
   "source": [
    "ambient_df = pd.read_csv(\"../data/processed/processed_hourly.csv\")\n",
    "ambient_df[\"date\"] = pd.to_datetime(ambient_df[\"date\"])\n",
    "\n",
    "# Masking for Load Curve\n",
    "\n",
    "weekend_mask = ambient_df[\"date\"].dt.weekday.isin(range(5, 7))      # Weekends (-5% BaseLoad)\n",
    "\n",
    "rain_month_mask = ambient_df[\"date\"].dt.month.isin(range(5, 11))    # Rainy Months (May to Oct) (-15% BaseLoad) \n",
    "\n",
    "def hour_mask(row):\n",
    "    if row[\"date\"].hour in range(0, 6):\n",
    "        return 20\n",
    "    \n",
    "    elif row[\"date\"].hour in range(6, 9):\n",
    "        return 30\n",
    "    \n",
    "    elif row[\"date\"].hour in range(9, 17):\n",
    "        return 50\n",
    "    \n",
    "    elif row[\"date\"].hour in range(17, 21):\n",
    "        return 100\n",
    "    \n",
    "    elif row[\"date\"].hour in range(21, 22):\n",
    "        return 80\n",
    "    \n",
    "    else:\n",
    "        return 20\n",
    "    \n",
    "def df_masking(df, new_column):\n",
    "    \n",
    "    df_mask = df.copy()\n",
    "    \n",
    "    df_mask[new_column] = df_mask.apply(hour_mask, axis=1)\n",
    "    \n",
    "    df_mask[new_column] = df_mask[new_column].mask(\n",
    "        weekend_mask, df_mask[new_column] * (1.00-0.05)\n",
    "    )\n",
    "    \n",
    "    df_mask[new_column] = df_mask[new_column].mask(\n",
    "        rain_month_mask, df_mask[new_column] * (1.00-0.15)\n",
    "    )\n",
    "    \n",
    "    return df_mask\n",
    "\n",
    "ambient_df_masked = df_masking(ambient_df, \"PartLoad\")\n",
    "ambient_df_masked = ambient_df_masked.set_index(\"date\")\n",
    "ambient_df_masked.to_csv(\"../data/processed/processed_hourly_masked.csv\")"
   ]
  },
  {
   "cell_type": "markdown",
   "metadata": {},
   "source": [
    "### **GE 7E Data**"
   ]
  },
  {
   "cell_type": "code",
   "execution_count": 4,
   "metadata": {},
   "outputs": [
    {
     "data": {
      "text/html": [
       "<div>\n",
       "<style scoped>\n",
       "    .dataframe tbody tr th:only-of-type {\n",
       "        vertical-align: middle;\n",
       "    }\n",
       "\n",
       "    .dataframe tbody tr th {\n",
       "        vertical-align: top;\n",
       "    }\n",
       "\n",
       "    .dataframe thead th {\n",
       "        text-align: right;\n",
       "    }\n",
       "</style>\n",
       "<table border=\"1\" class=\"dataframe\">\n",
       "  <thead>\n",
       "    <tr style=\"text-align: right;\">\n",
       "      <th></th>\n",
       "      <th>Output</th>\n",
       "      <th>Heat Rate</th>\n",
       "      <th>Heat Consumption</th>\n",
       "      <th>Exhaust Temperature</th>\n",
       "      <th>Exhaust Flow</th>\n",
       "    </tr>\n",
       "    <tr>\n",
       "      <th>date</th>\n",
       "      <th></th>\n",
       "      <th></th>\n",
       "      <th></th>\n",
       "      <th></th>\n",
       "      <th></th>\n",
       "    </tr>\n",
       "  </thead>\n",
       "  <tbody>\n",
       "    <tr>\n",
       "      <th>2020-01-01 04:00:00+00:00</th>\n",
       "      <td>89640.783238</td>\n",
       "      <td>22578.809057</td>\n",
       "      <td>9.580328e+08</td>\n",
       "      <td>906.086808</td>\n",
       "      <td>634976.532683</td>\n",
       "    </tr>\n",
       "    <tr>\n",
       "      <th>2020-01-01 05:00:00+00:00</th>\n",
       "      <td>89612.793359</td>\n",
       "      <td>22578.995373</td>\n",
       "      <td>9.577414e+08</td>\n",
       "      <td>906.087259</td>\n",
       "      <td>634783.328697</td>\n",
       "    </tr>\n",
       "    <tr>\n",
       "      <th>2020-01-01 06:00:00+00:00</th>\n",
       "      <td>89556.813601</td>\n",
       "      <td>18158.979667</td>\n",
       "      <td>9.571587e+08</td>\n",
       "      <td>1029.088159</td>\n",
       "      <td>632134.680052</td>\n",
       "    </tr>\n",
       "    <tr>\n",
       "      <th>2020-01-01 07:00:00+00:00</th>\n",
       "      <td>89510.163803</td>\n",
       "      <td>18159.229403</td>\n",
       "      <td>9.566731e+08</td>\n",
       "      <td>1029.088909</td>\n",
       "      <td>631813.821675</td>\n",
       "    </tr>\n",
       "    <tr>\n",
       "      <th>2020-01-01 08:00:00+00:00</th>\n",
       "      <td>89500.833843</td>\n",
       "      <td>18159.279350</td>\n",
       "      <td>9.565760e+08</td>\n",
       "      <td>1029.089059</td>\n",
       "      <td>631749.650000</td>\n",
       "    </tr>\n",
       "  </tbody>\n",
       "</table>\n",
       "</div>"
      ],
      "text/plain": [
       "                                 Output     Heat Rate  Heat Consumption  \\\n",
       "date                                                                      \n",
       "2020-01-01 04:00:00+00:00  89640.783238  22578.809057      9.580328e+08   \n",
       "2020-01-01 05:00:00+00:00  89612.793359  22578.995373      9.577414e+08   \n",
       "2020-01-01 06:00:00+00:00  89556.813601  18158.979667      9.571587e+08   \n",
       "2020-01-01 07:00:00+00:00  89510.163803  18159.229403      9.566731e+08   \n",
       "2020-01-01 08:00:00+00:00  89500.833843  18159.279350      9.565760e+08   \n",
       "\n",
       "                           Exhaust Temperature   Exhaust Flow  \n",
       "date                                                           \n",
       "2020-01-01 04:00:00+00:00           906.086808  634976.532683  \n",
       "2020-01-01 05:00:00+00:00           906.087259  634783.328697  \n",
       "2020-01-01 06:00:00+00:00          1029.088159  632134.680052  \n",
       "2020-01-01 07:00:00+00:00          1029.088909  631813.821675  \n",
       "2020-01-01 08:00:00+00:00          1029.089059  631749.650000  "
      ]
     },
     "execution_count": 4,
     "metadata": {},
     "output_type": "execute_result"
    }
   ],
   "source": [
    "performances_df = PartLoad(gek_dict, partial_load_dict, ambient_df_masked)\n",
    "performances_df.head()"
   ]
  },
  {
   "cell_type": "code",
   "execution_count": 5,
   "metadata": {},
   "outputs": [],
   "source": [
    "performances_df.to_csv(\"../data/results/performances.csv\", index=True)"
   ]
  }
 ],
 "metadata": {
  "kernelspec": {
   "display_name": "turbines",
   "language": "python",
   "name": "python3"
  },
  "language_info": {
   "codemirror_mode": {
    "name": "ipython",
    "version": 3
   },
   "file_extension": ".py",
   "mimetype": "text/x-python",
   "name": "python",
   "nbconvert_exporter": "python",
   "pygments_lexer": "ipython3",
   "version": "3.12.3"
  }
 },
 "nbformat": 4,
 "nbformat_minor": 2
}
